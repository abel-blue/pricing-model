{
 "cells": [
  {
   "cell_type": "markdown",
   "id": "89409b35",
   "metadata": {},
   "source": [
    "# Data Preprocessing\n",
    "## Content\n",
    "- Data Preprocessing\n",
    "- Load data from postgres\n",
    "- Data Information\n",
    "- Data Manipulation\n",
    "    - Missing Value Manipulation\n",
    "    - Fixing missing values\n",
    "    - Droping Duplicate values\n",
    "- Show Data Description\n",
    "- Outliers\n",
    "    - Fix Outliers\n",
    "- Data wrangling\n",
    "- Save Cleaned Data"
   ]
  },
  {
   "cell_type": "markdown",
   "id": "dcfc0d4b",
   "metadata": {},
   "source": [
    "# Data Preprocessing"
   ]
  },
  {
   "cell_type": "code",
   "execution_count": 1,
   "id": "ce377b7d",
   "metadata": {},
   "outputs": [],
   "source": [
    "#importing the libraries\n",
    "import pandas as pd\n",
    "import numpy as np\n",
    "import matplotlib.pyplot as plt\n",
    "import numpy as np\n",
    "import pandas as pd\n",
    "from scipy import stats\n",
    "import plotly.express as px\n",
    "import seaborn as sns\n",
    "sns.set()\n",
    "import matplotlib.pyplot as plt\n",
    "%matplotlib inline\n",
    "from sklearn import preprocessing\n",
    "import plotly.graph_objects as go\n",
    "import warnings\n",
    "warnings.filterwarnings(\"ignore\")"
   ]
  },
  {
   "cell_type": "code",
   "execution_count": 2,
   "id": "a7e3d79e",
   "metadata": {},
   "outputs": [],
   "source": [
    "# importing script modules from ../scripts\n",
    "# Adding scripts path\n",
    "import sys, os\n",
    "sys.path.insert(0, '../scripts/')\n",
    "from data_preProcessing import data_preProcessing_script\n",
    "from data_manipulator import DataCleaner\n",
    "from data_exploration import exploration"
   ]
  },
  {
   "cell_type": "markdown",
   "id": "7981dc75",
   "metadata": {},
   "source": [
    "# Load Data From Postgres"
   ]
  },
  {
   "cell_type": "code",
   "execution_count": 3,
   "id": "7ef8e89a",
   "metadata": {},
   "outputs": [],
   "source": [
    "# importing postgres module\n",
    "import psycopg2 as pg"
   ]
  },
  {
   "cell_type": "code",
   "execution_count": 4,
   "id": "3a03b93b",
   "metadata": {
    "scrolled": true
   },
   "outputs": [
    {
     "data": {
      "text/html": [
       "<div>\n",
       "<style scoped>\n",
       "    .dataframe tbody tr th:only-of-type {\n",
       "        vertical-align: middle;\n",
       "    }\n",
       "\n",
       "    .dataframe tbody tr th {\n",
       "        vertical-align: top;\n",
       "    }\n",
       "\n",
       "    .dataframe thead th {\n",
       "        text-align: right;\n",
       "    }\n",
       "</style>\n",
       "<table border=\"1\" class=\"dataframe\">\n",
       "  <thead>\n",
       "    <tr style=\"text-align: right;\">\n",
       "      <th></th>\n",
       "      <th>mkt_id</th>\n",
       "      <th>output_date</th>\n",
       "      <th>output_own_price</th>\n",
       "      <th>output_own_cost</th>\n",
       "      <th>output_comp_price</th>\n",
       "      <th>output_own_profits</th>\n",
       "      <th>output_X</th>\n",
       "      <th>output_own_share</th>\n",
       "      <th>output_own_sales</th>\n",
       "    </tr>\n",
       "  </thead>\n",
       "  <tbody>\n",
       "    <tr>\n",
       "      <th>0</th>\n",
       "      <td>44</td>\n",
       "      <td>01jan2019</td>\n",
       "      <td>7.05</td>\n",
       "      <td>5.90</td>\n",
       "      <td>7.11</td>\n",
       "      <td>15.06500</td>\n",
       "      <td>42.80</td>\n",
       "      <td>0.515267</td>\n",
       "      <td>13.10</td>\n",
       "    </tr>\n",
       "    <tr>\n",
       "      <th>1</th>\n",
       "      <td>44</td>\n",
       "      <td>02jan2019</td>\n",
       "      <td>7.05</td>\n",
       "      <td>6.05</td>\n",
       "      <td>7.11</td>\n",
       "      <td>24.31000</td>\n",
       "      <td>36.14</td>\n",
       "      <td>0.557082</td>\n",
       "      <td>24.31</td>\n",
       "    </tr>\n",
       "    <tr>\n",
       "      <th>2</th>\n",
       "      <td>44</td>\n",
       "      <td>03jan2019</td>\n",
       "      <td>7.05</td>\n",
       "      <td>5.98</td>\n",
       "      <td>7.28</td>\n",
       "      <td>30.78391</td>\n",
       "      <td>34.34</td>\n",
       "      <td>0.579922</td>\n",
       "      <td>28.77</td>\n",
       "    </tr>\n",
       "    <tr>\n",
       "      <th>3</th>\n",
       "      <td>44</td>\n",
       "      <td>04jan2019</td>\n",
       "      <td>7.05</td>\n",
       "      <td>5.98</td>\n",
       "      <td>7.28</td>\n",
       "      <td>20.16950</td>\n",
       "      <td>36.32</td>\n",
       "      <td>0.542767</td>\n",
       "      <td>18.85</td>\n",
       "    </tr>\n",
       "    <tr>\n",
       "      <th>4</th>\n",
       "      <td>44</td>\n",
       "      <td>05jan2019</td>\n",
       "      <td>6.79</td>\n",
       "      <td>6.07</td>\n",
       "      <td>6.68</td>\n",
       "      <td>1.23120</td>\n",
       "      <td>44.06</td>\n",
       "      <td>0.494757</td>\n",
       "      <td>1.71</td>\n",
       "    </tr>\n",
       "    <tr>\n",
       "      <th>5</th>\n",
       "      <td>44</td>\n",
       "      <td>06jan2019</td>\n",
       "      <td>6.79</td>\n",
       "      <td>5.96</td>\n",
       "      <td>6.68</td>\n",
       "      <td>1.57700</td>\n",
       "      <td>44.24</td>\n",
       "      <td>0.456290</td>\n",
       "      <td>1.90</td>\n",
       "    </tr>\n",
       "    <tr>\n",
       "      <th>6</th>\n",
       "      <td>44</td>\n",
       "      <td>07jan2019</td>\n",
       "      <td>7.10</td>\n",
       "      <td>5.96</td>\n",
       "      <td>7.07</td>\n",
       "      <td>14.11320</td>\n",
       "      <td>42.80</td>\n",
       "      <td>0.693379</td>\n",
       "      <td>12.38</td>\n",
       "    </tr>\n",
       "    <tr>\n",
       "      <th>7</th>\n",
       "      <td>44</td>\n",
       "      <td>08jan2019</td>\n",
       "      <td>7.10</td>\n",
       "      <td>6.03</td>\n",
       "      <td>7.07</td>\n",
       "      <td>19.44189</td>\n",
       "      <td>41.54</td>\n",
       "      <td>0.567908</td>\n",
       "      <td>18.17</td>\n",
       "    </tr>\n",
       "    <tr>\n",
       "      <th>8</th>\n",
       "      <td>44</td>\n",
       "      <td>09jan2019</td>\n",
       "      <td>7.10</td>\n",
       "      <td>5.99</td>\n",
       "      <td>7.07</td>\n",
       "      <td>26.62890</td>\n",
       "      <td>35.78</td>\n",
       "      <td>0.559945</td>\n",
       "      <td>23.99</td>\n",
       "    </tr>\n",
       "    <tr>\n",
       "      <th>9</th>\n",
       "      <td>44</td>\n",
       "      <td>10jan2019</td>\n",
       "      <td>7.10</td>\n",
       "      <td>5.99</td>\n",
       "      <td>7.29</td>\n",
       "      <td>31.77930</td>\n",
       "      <td>33.80</td>\n",
       "      <td>0.542755</td>\n",
       "      <td>28.63</td>\n",
       "    </tr>\n",
       "  </tbody>\n",
       "</table>\n",
       "</div>"
      ],
      "text/plain": [
       "   mkt_id output_date  output_own_price  output_own_cost  output_comp_price  \\\n",
       "0      44   01jan2019              7.05             5.90               7.11   \n",
       "1      44   02jan2019              7.05             6.05               7.11   \n",
       "2      44   03jan2019              7.05             5.98               7.28   \n",
       "3      44   04jan2019              7.05             5.98               7.28   \n",
       "4      44   05jan2019              6.79             6.07               6.68   \n",
       "5      44   06jan2019              6.79             5.96               6.68   \n",
       "6      44   07jan2019              7.10             5.96               7.07   \n",
       "7      44   08jan2019              7.10             6.03               7.07   \n",
       "8      44   09jan2019              7.10             5.99               7.07   \n",
       "9      44   10jan2019              7.10             5.99               7.29   \n",
       "\n",
       "   output_own_profits  output_X  output_own_share  output_own_sales  \n",
       "0            15.06500     42.80          0.515267             13.10  \n",
       "1            24.31000     36.14          0.557082             24.31  \n",
       "2            30.78391     34.34          0.579922             28.77  \n",
       "3            20.16950     36.32          0.542767             18.85  \n",
       "4             1.23120     44.06          0.494757              1.71  \n",
       "5             1.57700     44.24          0.456290              1.90  \n",
       "6            14.11320     42.80          0.693379             12.38  \n",
       "7            19.44189     41.54          0.567908             18.17  \n",
       "8            26.62890     35.78          0.559945             23.99  \n",
       "9            31.77930     33.80          0.542755             28.63  "
      ]
     },
     "execution_count": 4,
     "metadata": {},
     "output_type": "execute_result"
    }
   ],
   "source": [
    "# connect postgres engine to python\n",
    "# engine = pg.connect(\"dbname='postgres' user='postgres' host='127.0.0.1' port='5432' password='abel6464'\")\n",
    "# df = pd.read_sql('select * from merged LIMIT 100000', con=engine)\n",
    "df = pd.read_csv(\"../data/output_data.csv\")\n",
    "df.head(10)"
   ]
  },
  {
   "cell_type": "markdown",
   "id": "756fec69",
   "metadata": {},
   "source": [
    "# Data Information"
   ]
  },
  {
   "cell_type": "code",
   "execution_count": 5,
   "id": "2a2ede93",
   "metadata": {},
   "outputs": [
    {
     "name": "stdout",
     "output_type": "stream",
     "text": [
      "<class 'pandas.core.frame.DataFrame'>\n",
      "RangeIndex: 19710 entries, 0 to 19709\n",
      "Data columns (total 9 columns):\n",
      " #   Column              Non-Null Count  Dtype  \n",
      "---  ------              --------------  -----  \n",
      " 0   mkt_id              19710 non-null  int64  \n",
      " 1   output_date         19710 non-null  object \n",
      " 2   output_own_price    19710 non-null  float64\n",
      " 3   output_own_cost     19710 non-null  float64\n",
      " 4   output_comp_price   19710 non-null  float64\n",
      " 5   output_own_profits  19710 non-null  float64\n",
      " 6   output_X            19710 non-null  float64\n",
      " 7   output_own_share    19710 non-null  float64\n",
      " 8   output_own_sales    19710 non-null  float64\n",
      "dtypes: float64(7), int64(1), object(1)\n",
      "memory usage: 1.4+ MB\n"
     ]
    }
   ],
   "source": [
    "# object creation for data preprocessing module\n",
    "preprocess = data_preProcessing_script(df)\n",
    "preprocess.show_data_information()"
   ]
  },
  {
   "cell_type": "code",
   "execution_count": 6,
   "id": "3bc37e63",
   "metadata": {},
   "outputs": [
    {
     "name": "stdout",
     "output_type": "stream",
     "text": [
      "unique column values\n"
     ]
    },
    {
     "data": {
      "text/plain": [
       "output_own_share      19635\n",
       "output_own_profits    14713\n",
       "output_own_sales       2854\n",
       "output_X                381\n",
       "output_date             365\n",
       "output_comp_price        95\n",
       "output_own_price         94\n",
       "mkt_id                   54\n",
       "output_own_cost          42\n",
       "dtype: int64"
      ]
     },
     "execution_count": 6,
     "metadata": {},
     "output_type": "execute_result"
    }
   ],
   "source": [
    "# count unique columns\n",
    "print('unique column values')\n",
    "df.apply(lambda x: len(x.unique())).sort_values(ascending=False).head(33)"
   ]
  },
  {
   "cell_type": "code",
   "execution_count": 7,
   "id": "4791690f",
   "metadata": {},
   "outputs": [
    {
     "data": {
      "text/plain": [
       "(19710, 9)"
      ]
     },
     "execution_count": 7,
     "metadata": {},
     "output_type": "execute_result"
    }
   ],
   "source": [
    "# display shape of the dataframe\n",
    "df.shape"
   ]
  },
  {
   "cell_type": "markdown",
   "id": "38fa45fe",
   "metadata": {},
   "source": [
    "# Data Manipulation\n",
    "## Missing Value Manipulation"
   ]
  },
  {
   "cell_type": "code",
   "execution_count": 8,
   "id": "c835fd99",
   "metadata": {},
   "outputs": [
    {
     "data": {
      "text/plain": [
       "[]"
      ]
     },
     "execution_count": 8,
     "metadata": {},
     "output_type": "execute_result"
    }
   ],
   "source": [
    "# missing value columns\n",
    "preprocess.colums_WithMissingValue()"
   ]
  },
  {
   "cell_type": "code",
   "execution_count": 9,
   "id": "76965bda",
   "metadata": {},
   "outputs": [
    {
     "data": {
      "text/html": [
       "<div>\n",
       "<style scoped>\n",
       "    .dataframe tbody tr th:only-of-type {\n",
       "        vertical-align: middle;\n",
       "    }\n",
       "\n",
       "    .dataframe tbody tr th {\n",
       "        vertical-align: top;\n",
       "    }\n",
       "\n",
       "    .dataframe thead th {\n",
       "        text-align: right;\n",
       "    }\n",
       "</style>\n",
       "<table border=\"1\" class=\"dataframe\">\n",
       "  <thead>\n",
       "    <tr style=\"text-align: right;\">\n",
       "      <th></th>\n",
       "      <th>total_missing_values</th>\n",
       "      <th>missing_percentage</th>\n",
       "    </tr>\n",
       "  </thead>\n",
       "  <tbody>\n",
       "    <tr>\n",
       "      <th>mkt_id</th>\n",
       "      <td>0</td>\n",
       "      <td>0.0 %</td>\n",
       "    </tr>\n",
       "    <tr>\n",
       "      <th>output_date</th>\n",
       "      <td>0</td>\n",
       "      <td>0.0 %</td>\n",
       "    </tr>\n",
       "    <tr>\n",
       "      <th>output_own_price</th>\n",
       "      <td>0</td>\n",
       "      <td>0.0 %</td>\n",
       "    </tr>\n",
       "    <tr>\n",
       "      <th>output_own_cost</th>\n",
       "      <td>0</td>\n",
       "      <td>0.0 %</td>\n",
       "    </tr>\n",
       "    <tr>\n",
       "      <th>output_comp_price</th>\n",
       "      <td>0</td>\n",
       "      <td>0.0 %</td>\n",
       "    </tr>\n",
       "    <tr>\n",
       "      <th>output_own_profits</th>\n",
       "      <td>0</td>\n",
       "      <td>0.0 %</td>\n",
       "    </tr>\n",
       "    <tr>\n",
       "      <th>output_X</th>\n",
       "      <td>0</td>\n",
       "      <td>0.0 %</td>\n",
       "    </tr>\n",
       "    <tr>\n",
       "      <th>output_own_share</th>\n",
       "      <td>0</td>\n",
       "      <td>0.0 %</td>\n",
       "    </tr>\n",
       "    <tr>\n",
       "      <th>output_own_sales</th>\n",
       "      <td>0</td>\n",
       "      <td>0.0 %</td>\n",
       "    </tr>\n",
       "  </tbody>\n",
       "</table>\n",
       "</div>"
      ],
      "text/plain": [
       "                    total_missing_values missing_percentage\n",
       "mkt_id                                 0              0.0 %\n",
       "output_date                            0              0.0 %\n",
       "output_own_price                       0              0.0 %\n",
       "output_own_cost                        0              0.0 %\n",
       "output_comp_price                      0              0.0 %\n",
       "output_own_profits                     0              0.0 %\n",
       "output_X                               0              0.0 %\n",
       "output_own_share                       0              0.0 %\n",
       "output_own_sales                       0              0.0 %"
      ]
     },
     "execution_count": 9,
     "metadata": {},
     "output_type": "execute_result"
    }
   ],
   "source": [
    "# get missing value columns based percentage\n",
    "preprocess.get_column_based_missing_percentage()"
   ]
  },
  {
   "cell_type": "code",
   "execution_count": 10,
   "id": "2bfabc27",
   "metadata": {},
   "outputs": [
    {
     "data": {
      "text/plain": [
       "Text(0, 0.5, 'Features')"
      ]
     },
     "execution_count": 10,
     "metadata": {},
     "output_type": "execute_result"
    },
    {
     "data": {
      "image/png": "[encoded data removed]",
      "text/plain": [
       "<Figure size 504x432 with 1 Axes>"
      ]
     },
     "metadata": {
      "needs_background": "light"
     },
     "output_type": "display_data"
    }
   ],
   "source": [
    "#cols_with_missing = [col for col in train.columns if train[col].isnull().any()]\n",
    "cols_with_missing = df.isnull().sum()\n",
    "cols_with_missing = cols_with_missing[cols_with_missing>0]\n",
    "cols_with_missing.sort_values(inplace=True)\n",
    "fig, ax = plt.subplots(figsize=(7,6))  \n",
    "width = 0.70 # the width of the bars \n",
    "ind = np.arange(len(cols_with_missing))  # the x locations for the groups\n",
    "ax.barh(ind, cols_with_missing, width, color=\"blue\")\n",
    "ax.set_yticks(ind+width/2)\n",
    "ax.set_yticklabels(cols_with_missing.index, minor=False)\n",
    "plt.xlabel('Count')\n",
    "plt.ylabel('Features') "
   ]
  },
  {
   "cell_type": "markdown",
   "id": "57fbbbfe",
   "metadata": {},
   "source": [
    "# Droping Duplicate values"
   ]
  },
  {
   "cell_type": "code",
   "execution_count": 11,
   "id": "48cf0d8f",
   "metadata": {},
   "outputs": [
    {
     "data": {
      "text/plain": [
       "Int64Index([], dtype='int64')"
      ]
     },
     "execution_count": 11,
     "metadata": {},
     "output_type": "execute_result"
    }
   ],
   "source": [
    "# Duplicate\n",
    "df[df.duplicated()].index"
   ]
  },
  {
   "cell_type": "code",
   "execution_count": 12,
   "id": "048b1a13",
   "metadata": {},
   "outputs": [],
   "source": [
    "# drop duplicates\n",
    "preprocess.drop_duplicates()"
   ]
  },
  {
   "cell_type": "code",
   "execution_count": 13,
   "id": "70d0473e",
   "metadata": {},
   "outputs": [
    {
     "data": {
      "text/plain": [
       "Int64Index([], dtype='int64')"
      ]
     },
     "execution_count": 13,
     "metadata": {},
     "output_type": "execute_result"
    }
   ],
   "source": [
    "# Duplicate\n",
    "df[df.duplicated()].index"
   ]
  },
  {
   "cell_type": "markdown",
   "id": "6e18d83d",
   "metadata": {},
   "source": [
    "# Show Data Description"
   ]
  },
  {
   "cell_type": "code",
   "execution_count": 14,
   "id": "0bd7506f",
   "metadata": {},
   "outputs": [
    {
     "data": {
      "text/html": [
       "<div>\n",
       "<style scoped>\n",
       "    .dataframe tbody tr th:only-of-type {\n",
       "        vertical-align: middle;\n",
       "    }\n",
       "\n",
       "    .dataframe tbody tr th {\n",
       "        vertical-align: top;\n",
       "    }\n",
       "\n",
       "    .dataframe thead th {\n",
       "        text-align: right;\n",
       "    }\n",
       "</style>\n",
       "<table border=\"1\" class=\"dataframe\">\n",
       "  <thead>\n",
       "    <tr style=\"text-align: right;\">\n",
       "      <th></th>\n",
       "      <th>mkt_id</th>\n",
       "      <th>output_own_price</th>\n",
       "      <th>output_own_cost</th>\n",
       "      <th>output_comp_price</th>\n",
       "      <th>output_own_profits</th>\n",
       "      <th>output_X</th>\n",
       "      <th>output_own_share</th>\n",
       "      <th>output_own_sales</th>\n",
       "    </tr>\n",
       "  </thead>\n",
       "  <tbody>\n",
       "    <tr>\n",
       "      <th>count</th>\n",
       "      <td>19710.000000</td>\n",
       "      <td>19710.000000</td>\n",
       "      <td>19710.000000</td>\n",
       "      <td>19710.000000</td>\n",
       "      <td>19710.000000</td>\n",
       "      <td>19710.000000</td>\n",
       "      <td>19710.000000</td>\n",
       "      <td>19710.000000</td>\n",
       "    </tr>\n",
       "    <tr>\n",
       "      <th>mean</th>\n",
       "      <td>5229.240741</td>\n",
       "      <td>7.002018</td>\n",
       "      <td>5.999675</td>\n",
       "      <td>7.003128</td>\n",
       "      <td>8.477572</td>\n",
       "      <td>52.718559</td>\n",
       "      <td>0.499905</td>\n",
       "      <td>7.293428</td>\n",
       "    </tr>\n",
       "    <tr>\n",
       "      <th>std</th>\n",
       "      <td>3714.454255</td>\n",
       "      <td>0.202630</td>\n",
       "      <td>0.049680</td>\n",
       "      <td>0.200832</td>\n",
       "      <td>10.015517</td>\n",
       "      <td>14.910094</td>\n",
       "      <td>0.077973</td>\n",
       "      <td>7.854675</td>\n",
       "    </tr>\n",
       "    <tr>\n",
       "      <th>min</th>\n",
       "      <td>44.000000</td>\n",
       "      <td>6.560000</td>\n",
       "      <td>5.790000</td>\n",
       "      <td>6.560000</td>\n",
       "      <td>0.012600</td>\n",
       "      <td>24.620000</td>\n",
       "      <td>0.193445</td>\n",
       "      <td>0.020000</td>\n",
       "    </tr>\n",
       "    <tr>\n",
       "      <th>25%</th>\n",
       "      <td>2306.000000</td>\n",
       "      <td>6.780000</td>\n",
       "      <td>5.970000</td>\n",
       "      <td>6.790000</td>\n",
       "      <td>0.949400</td>\n",
       "      <td>39.740000</td>\n",
       "      <td>0.449883</td>\n",
       "      <td>1.060000</td>\n",
       "    </tr>\n",
       "    <tr>\n",
       "      <th>50%</th>\n",
       "      <td>5210.500000</td>\n",
       "      <td>7.040000</td>\n",
       "      <td>6.000000</td>\n",
       "      <td>7.040000</td>\n",
       "      <td>3.539900</td>\n",
       "      <td>51.440000</td>\n",
       "      <td>0.500003</td>\n",
       "      <td>3.800000</td>\n",
       "    </tr>\n",
       "    <tr>\n",
       "      <th>75%</th>\n",
       "      <td>7369.000000</td>\n",
       "      <td>7.150000</td>\n",
       "      <td>6.030000</td>\n",
       "      <td>7.150000</td>\n",
       "      <td>14.476825</td>\n",
       "      <td>64.940000</td>\n",
       "      <td>0.550166</td>\n",
       "      <td>12.490000</td>\n",
       "    </tr>\n",
       "    <tr>\n",
       "      <th>max</th>\n",
       "      <td>15555.000000</td>\n",
       "      <td>7.550000</td>\n",
       "      <td>6.230000</td>\n",
       "      <td>7.510000</td>\n",
       "      <td>53.029810</td>\n",
       "      <td>92.840000</td>\n",
       "      <td>0.800825</td>\n",
       "      <td>36.080000</td>\n",
       "    </tr>\n",
       "  </tbody>\n",
       "</table>\n",
       "</div>"
      ],
      "text/plain": [
       "             mkt_id  output_own_price  output_own_cost  output_comp_price  \\\n",
       "count  19710.000000      19710.000000     19710.000000       19710.000000   \n",
       "mean    5229.240741          7.002018         5.999675           7.003128   \n",
       "std     3714.454255          0.202630         0.049680           0.200832   \n",
       "min       44.000000          6.560000         5.790000           6.560000   \n",
       "25%     2306.000000          6.780000         5.970000           6.790000   \n",
       "50%     5210.500000          7.040000         6.000000           7.040000   \n",
       "75%     7369.000000          7.150000         6.030000           7.150000   \n",
       "max    15555.000000          7.550000         6.230000           7.510000   \n",
       "\n",
       "       output_own_profits      output_X  output_own_share  output_own_sales  \n",
       "count        19710.000000  19710.000000      19710.000000      19710.000000  \n",
       "mean             8.477572     52.718559          0.499905          7.293428  \n",
       "std             10.015517     14.910094          0.077973          7.854675  \n",
       "min              0.012600     24.620000          0.193445          0.020000  \n",
       "25%              0.949400     39.740000          0.449883          1.060000  \n",
       "50%              3.539900     51.440000          0.500003          3.800000  \n",
       "75%             14.476825     64.940000          0.550166         12.490000  \n",
       "max             53.029810     92.840000          0.800825         36.080000  "
      ]
     },
     "execution_count": 14,
     "metadata": {},
     "output_type": "execute_result"
    }
   ],
   "source": [
    "# display data description\n",
    "preprocess.show_data_description()"
   ]
  },
  {
   "cell_type": "code",
   "execution_count": 15,
   "id": "e0fb2838",
   "metadata": {},
   "outputs": [
    {
     "data": {
      "text/plain": [
       "mkt_id                  int64\n",
       "output_date            object\n",
       "output_own_price      float64\n",
       "output_own_cost       float64\n",
       "output_comp_price     float64\n",
       "output_own_profits    float64\n",
       "output_X              float64\n",
       "output_own_share      float64\n",
       "output_own_sales      float64\n",
       "dtype: object"
      ]
     },
     "execution_count": 15,
     "metadata": {},
     "output_type": "execute_result"
    }
   ],
   "source": [
    "# display datatypes\n",
    "preprocess.show_datatypes()"
   ]
  },
  {
   "cell_type": "code",
   "execution_count": 16,
   "id": "b459babd",
   "metadata": {},
   "outputs": [
    {
     "data": {
      "text/html": [
       "<style type=\"text/css\">\n",
       "#T_5f1a1_row0_col1 {\n",
       "  width: 10em;\n",
       "  background: linear-gradient(90deg, #205ff2 100.0%, transparent 100.0%);\n",
       "}\n",
       "#T_5f1a1_row0_col2 {\n",
       "  background-color: #67000d;\n",
       "  color: #f1f1f1;\n",
       "}\n",
       "#T_5f1a1_row0_col5 {\n",
       "  background-color: #b40426;\n",
       "  color: #f1f1f1;\n",
       "}\n",
       "#T_5f1a1_row1_col1, #T_5f1a1_row2_col1, #T_5f1a1_row3_col1, #T_5f1a1_row7_col1 {\n",
       "  width: 10em;\n",
       "  background: linear-gradient(90deg, #205ff2 0.1%, transparent 0.1%);\n",
       "}\n",
       "#T_5f1a1_row1_col2, #T_5f1a1_row2_col2, #T_5f1a1_row3_col2, #T_5f1a1_row4_col2, #T_5f1a1_row6_col2, #T_5f1a1_row7_col2 {\n",
       "  background-color: #fff5f0;\n",
       "  color: #000000;\n",
       "}\n",
       "#T_5f1a1_row1_col5, #T_5f1a1_row2_col5, #T_5f1a1_row3_col5, #T_5f1a1_row4_col5, #T_5f1a1_row6_col5, #T_5f1a1_row7_col5 {\n",
       "  background-color: #3b4cc0;\n",
       "  color: #f1f1f1;\n",
       "}\n",
       "#T_5f1a1_row4_col1 {\n",
       "  width: 10em;\n",
       "  background: linear-gradient(90deg, #205ff2 0.2%, transparent 0.2%);\n",
       "}\n",
       "#T_5f1a1_row5_col1 {\n",
       "  width: 10em;\n",
       "  background: linear-gradient(90deg, #205ff2 1.0%, transparent 1.0%);\n",
       "}\n",
       "#T_5f1a1_row5_col2 {\n",
       "  background-color: #fff4ef;\n",
       "  color: #000000;\n",
       "}\n",
       "#T_5f1a1_row5_col5 {\n",
       "  background-color: #3d50c3;\n",
       "  color: #f1f1f1;\n",
       "}\n",
       "#T_5f1a1_row6_col1 {\n",
       "  width: 10em;\n",
       "  background: linear-gradient(90deg, #205ff2 0.0%, transparent 0.0%);\n",
       "}\n",
       "</style>\n",
       "<table id=\"T_5f1a1\">\n",
       "  <thead>\n",
       "    <tr>\n",
       "      <th class=\"blank level0\" >&nbsp;</th>\n",
       "      <th id=\"T_5f1a1_level0_col0\" class=\"col_heading level0 col0\" >count</th>\n",
       "      <th id=\"T_5f1a1_level0_col1\" class=\"col_heading level0 col1\" >mean</th>\n",
       "      <th id=\"T_5f1a1_level0_col2\" class=\"col_heading level0 col2\" >std</th>\n",
       "      <th id=\"T_5f1a1_level0_col3\" class=\"col_heading level0 col3\" >min</th>\n",
       "      <th id=\"T_5f1a1_level0_col4\" class=\"col_heading level0 col4\" >25%</th>\n",
       "      <th id=\"T_5f1a1_level0_col5\" class=\"col_heading level0 col5\" >50%</th>\n",
       "      <th id=\"T_5f1a1_level0_col6\" class=\"col_heading level0 col6\" >75%</th>\n",
       "      <th id=\"T_5f1a1_level0_col7\" class=\"col_heading level0 col7\" >max</th>\n",
       "    </tr>\n",
       "  </thead>\n",
       "  <tbody>\n",
       "    <tr>\n",
       "      <th id=\"T_5f1a1_level0_row0\" class=\"row_heading level0 row0\" >mkt_id</th>\n",
       "      <td id=\"T_5f1a1_row0_col0\" class=\"data row0 col0\" >19710.000000</td>\n",
       "      <td id=\"T_5f1a1_row0_col1\" class=\"data row0 col1\" >5229.240741</td>\n",
       "      <td id=\"T_5f1a1_row0_col2\" class=\"data row0 col2\" >3714.454255</td>\n",
       "      <td id=\"T_5f1a1_row0_col3\" class=\"data row0 col3\" >44.000000</td>\n",
       "      <td id=\"T_5f1a1_row0_col4\" class=\"data row0 col4\" >2306.000000</td>\n",
       "      <td id=\"T_5f1a1_row0_col5\" class=\"data row0 col5\" >5210.500000</td>\n",
       "      <td id=\"T_5f1a1_row0_col6\" class=\"data row0 col6\" >7369.000000</td>\n",
       "      <td id=\"T_5f1a1_row0_col7\" class=\"data row0 col7\" >15555.000000</td>\n",
       "    </tr>\n",
       "    <tr>\n",
       "      <th id=\"T_5f1a1_level0_row1\" class=\"row_heading level0 row1\" >output_own_price</th>\n",
       "      <td id=\"T_5f1a1_row1_col0\" class=\"data row1 col0\" >19710.000000</td>\n",
       "      <td id=\"T_5f1a1_row1_col1\" class=\"data row1 col1\" >7.002018</td>\n",
       "      <td id=\"T_5f1a1_row1_col2\" class=\"data row1 col2\" >0.202630</td>\n",
       "      <td id=\"T_5f1a1_row1_col3\" class=\"data row1 col3\" >6.560000</td>\n",
       "      <td id=\"T_5f1a1_row1_col4\" class=\"data row1 col4\" >6.780000</td>\n",
       "      <td id=\"T_5f1a1_row1_col5\" class=\"data row1 col5\" >7.040000</td>\n",
       "      <td id=\"T_5f1a1_row1_col6\" class=\"data row1 col6\" >7.150000</td>\n",
       "      <td id=\"T_5f1a1_row1_col7\" class=\"data row1 col7\" >7.550000</td>\n",
       "    </tr>\n",
       "    <tr>\n",
       "      <th id=\"T_5f1a1_level0_row2\" class=\"row_heading level0 row2\" >output_own_cost</th>\n",
       "      <td id=\"T_5f1a1_row2_col0\" class=\"data row2 col0\" >19710.000000</td>\n",
       "      <td id=\"T_5f1a1_row2_col1\" class=\"data row2 col1\" >5.999675</td>\n",
       "      <td id=\"T_5f1a1_row2_col2\" class=\"data row2 col2\" >0.049680</td>\n",
       "      <td id=\"T_5f1a1_row2_col3\" class=\"data row2 col3\" >5.790000</td>\n",
       "      <td id=\"T_5f1a1_row2_col4\" class=\"data row2 col4\" >5.970000</td>\n",
       "      <td id=\"T_5f1a1_row2_col5\" class=\"data row2 col5\" >6.000000</td>\n",
       "      <td id=\"T_5f1a1_row2_col6\" class=\"data row2 col6\" >6.030000</td>\n",
       "      <td id=\"T_5f1a1_row2_col7\" class=\"data row2 col7\" >6.230000</td>\n",
       "    </tr>\n",
       "    <tr>\n",
       "      <th id=\"T_5f1a1_level0_row3\" class=\"row_heading level0 row3\" >output_comp_price</th>\n",
       "      <td id=\"T_5f1a1_row3_col0\" class=\"data row3 col0\" >19710.000000</td>\n",
       "      <td id=\"T_5f1a1_row3_col1\" class=\"data row3 col1\" >7.003128</td>\n",
       "      <td id=\"T_5f1a1_row3_col2\" class=\"data row3 col2\" >0.200832</td>\n",
       "      <td id=\"T_5f1a1_row3_col3\" class=\"data row3 col3\" >6.560000</td>\n",
       "      <td id=\"T_5f1a1_row3_col4\" class=\"data row3 col4\" >6.790000</td>\n",
       "      <td id=\"T_5f1a1_row3_col5\" class=\"data row3 col5\" >7.040000</td>\n",
       "      <td id=\"T_5f1a1_row3_col6\" class=\"data row3 col6\" >7.150000</td>\n",
       "      <td id=\"T_5f1a1_row3_col7\" class=\"data row3 col7\" >7.510000</td>\n",
       "    </tr>\n",
       "    <tr>\n",
       "      <th id=\"T_5f1a1_level0_row4\" class=\"row_heading level0 row4\" >output_own_profits</th>\n",
       "      <td id=\"T_5f1a1_row4_col0\" class=\"data row4 col0\" >19710.000000</td>\n",
       "      <td id=\"T_5f1a1_row4_col1\" class=\"data row4 col1\" >8.477572</td>\n",
       "      <td id=\"T_5f1a1_row4_col2\" class=\"data row4 col2\" >10.015517</td>\n",
       "      <td id=\"T_5f1a1_row4_col3\" class=\"data row4 col3\" >0.012600</td>\n",
       "      <td id=\"T_5f1a1_row4_col4\" class=\"data row4 col4\" >0.949400</td>\n",
       "      <td id=\"T_5f1a1_row4_col5\" class=\"data row4 col5\" >3.539900</td>\n",
       "      <td id=\"T_5f1a1_row4_col6\" class=\"data row4 col6\" >14.476825</td>\n",
       "      <td id=\"T_5f1a1_row4_col7\" class=\"data row4 col7\" >53.029810</td>\n",
       "    </tr>\n",
       "    <tr>\n",
       "      <th id=\"T_5f1a1_level0_row5\" class=\"row_heading level0 row5\" >output_X</th>\n",
       "      <td id=\"T_5f1a1_row5_col0\" class=\"data row5 col0\" >19710.000000</td>\n",
       "      <td id=\"T_5f1a1_row5_col1\" class=\"data row5 col1\" >52.718559</td>\n",
       "      <td id=\"T_5f1a1_row5_col2\" class=\"data row5 col2\" >14.910094</td>\n",
       "      <td id=\"T_5f1a1_row5_col3\" class=\"data row5 col3\" >24.620000</td>\n",
       "      <td id=\"T_5f1a1_row5_col4\" class=\"data row5 col4\" >39.740000</td>\n",
       "      <td id=\"T_5f1a1_row5_col5\" class=\"data row5 col5\" >51.440000</td>\n",
       "      <td id=\"T_5f1a1_row5_col6\" class=\"data row5 col6\" >64.940000</td>\n",
       "      <td id=\"T_5f1a1_row5_col7\" class=\"data row5 col7\" >92.840000</td>\n",
       "    </tr>\n",
       "    <tr>\n",
       "      <th id=\"T_5f1a1_level0_row6\" class=\"row_heading level0 row6\" >output_own_share</th>\n",
       "      <td id=\"T_5f1a1_row6_col0\" class=\"data row6 col0\" >19710.000000</td>\n",
       "      <td id=\"T_5f1a1_row6_col1\" class=\"data row6 col1\" >0.499905</td>\n",
       "      <td id=\"T_5f1a1_row6_col2\" class=\"data row6 col2\" >0.077973</td>\n",
       "      <td id=\"T_5f1a1_row6_col3\" class=\"data row6 col3\" >0.193445</td>\n",
       "      <td id=\"T_5f1a1_row6_col4\" class=\"data row6 col4\" >0.449883</td>\n",
       "      <td id=\"T_5f1a1_row6_col5\" class=\"data row6 col5\" >0.500003</td>\n",
       "      <td id=\"T_5f1a1_row6_col6\" class=\"data row6 col6\" >0.550166</td>\n",
       "      <td id=\"T_5f1a1_row6_col7\" class=\"data row6 col7\" >0.800825</td>\n",
       "    </tr>\n",
       "    <tr>\n",
       "      <th id=\"T_5f1a1_level0_row7\" class=\"row_heading level0 row7\" >output_own_sales</th>\n",
       "      <td id=\"T_5f1a1_row7_col0\" class=\"data row7 col0\" >19710.000000</td>\n",
       "      <td id=\"T_5f1a1_row7_col1\" class=\"data row7 col1\" >7.293428</td>\n",
       "      <td id=\"T_5f1a1_row7_col2\" class=\"data row7 col2\" >7.854675</td>\n",
       "      <td id=\"T_5f1a1_row7_col3\" class=\"data row7 col3\" >0.020000</td>\n",
       "      <td id=\"T_5f1a1_row7_col4\" class=\"data row7 col4\" >1.060000</td>\n",
       "      <td id=\"T_5f1a1_row7_col5\" class=\"data row7 col5\" >3.800000</td>\n",
       "      <td id=\"T_5f1a1_row7_col6\" class=\"data row7 col6\" >12.490000</td>\n",
       "      <td id=\"T_5f1a1_row7_col7\" class=\"data row7 col7\" >36.080000</td>\n",
       "    </tr>\n",
       "  </tbody>\n",
       "</table>\n"
      ],
      "text/plain": [
       "<pandas.io.formats.style.Styler at 0x7f28fd12a4c0>"
      ]
     },
     "execution_count": 16,
     "metadata": {},
     "output_type": "execute_result"
    }
   ],
   "source": [
    "# describe dataset using background color gradient\n",
    "df.describe().T.style.bar(subset=['mean'], color='#205ff2')\\\n",
    "                            .background_gradient(subset=['std'], cmap='Reds')\\\n",
    "                            .background_gradient(subset=['50%'], cmap='coolwarm')"
   ]
  },
  {
   "cell_type": "markdown",
   "id": "716cd872",
   "metadata": {},
   "source": [
    "# Outliers"
   ]
  },
  {
   "cell_type": "code",
   "execution_count": 19,
   "id": "150493c9",
   "metadata": {},
   "outputs": [],
   "source": [
    "# importing exploration modules\n",
    "from data_exploration import exploration\n",
    "exploration = exploration()"
   ]
  },
  {
   "cell_type": "code",
   "execution_count": 21,
   "id": "39e52cc9",
   "metadata": {},
   "outputs": [
    {
     "data": {
      "image/png": "[encoded data removed]",
      "text/plain": [
       "<Figure size 864x504 with 1 Axes>"
      ]
     },
     "metadata": {
      "needs_background": "light"
     },
     "output_type": "display_data"
    }
   ],
   "source": [
    "# box plot for volume agreed column\n",
    "exploration.plot_box(df, \"output_own_price\", \"Outliers\")"
   ]
  },
  {
   "cell_type": "code",
   "execution_count": 22,
   "id": "2621abf5",
   "metadata": {},
   "outputs": [
    {
     "data": {
      "image/png": "[encoded data removed]",
      "text/plain": [
       "<Figure size 864x504 with 1 Axes>"
      ]
     },
     "metadata": {
      "needs_background": "light"
     },
     "output_type": "display_data"
    }
   ],
   "source": [
    "# box plot for volume agreed column\n",
    "exploration.plot_box(df, \"output_own_cost\", \"Outliers\")"
   ]
  },
  {
   "cell_type": "code",
   "execution_count": 23,
   "id": "b4d2e1a5",
   "metadata": {},
   "outputs": [
    {
     "data": {
      "image/png": "[encoded data removed]",
      "text/plain": [
       "<Figure size 864x504 with 1 Axes>"
      ]
     },
     "metadata": {
      "needs_background": "light"
     },
     "output_type": "display_data"
    }
   ],
   "source": [
    "# box plot for volume agreed column\n",
    "exploration.plot_box(df, \"output_comp_price\", \"Outliers\")"
   ]
  },
  {
   "cell_type": "code",
   "execution_count": 24,
   "id": "de8e3033",
   "metadata": {},
   "outputs": [
    {
     "data": {
      "image/png": "[encoded data removed]",
      "text/plain": [
       "<Figure size 864x504 with 1 Axes>"
      ]
     },
     "metadata": {
      "needs_background": "light"
     },
     "output_type": "display_data"
    }
   ],
   "source": [
    "# box plot for volume agreed column\n",
    "exploration.plot_box(df, \"output_own_profits\", \"Outliers\")"
   ]
  },
  {
   "cell_type": "code",
   "execution_count": 25,
   "id": "72269c0b",
   "metadata": {},
   "outputs": [
    {
     "data": {
      "image/png": "[encoded data removed]",
      "text/plain": [
       "<Figure size 864x504 with 1 Axes>"
      ]
     },
     "metadata": {
      "needs_background": "light"
     },
     "output_type": "display_data"
    }
   ],
   "source": [
    "# box plot for volume agreed column\n",
    "exploration.plot_box(df, \"output_X\", \"Outliers\")"
   ]
  },
  {
   "cell_type": "code",
   "execution_count": 26,
   "id": "a0026852",
   "metadata": {},
   "outputs": [
    {
     "data": {
      "image/png": "[encoded data removed]",
      "text/plain": [
       "<Figure size 864x504 with 1 Axes>"
      ]
     },
     "metadata": {
      "needs_background": "light"
     },
     "output_type": "display_data"
    }
   ],
   "source": [
    "# box plot for volume agreed column\n",
    "exploration.plot_box(df, \"output_own_share\", \"Outliers\")"
   ]
  },
  {
   "cell_type": "code",
   "execution_count": 27,
   "id": "c888db77",
   "metadata": {
    "scrolled": false
   },
   "outputs": [
    {
     "data": {
      "image/png": "[encoded data removed]",
      "text/plain": [
       "<Figure size 864x504 with 1 Axes>"
      ]
     },
     "metadata": {
      "needs_background": "light"
     },
     "output_type": "display_data"
    }
   ],
   "source": [
    "# box plot for volume agreed column\n",
    "exploration.plot_box(df, \"output_own_sales\", \"Outliers\")"
   ]
  },
  {
   "cell_type": "markdown",
   "id": "8b7837f7",
   "metadata": {},
   "source": [
    "# Fix Outliers"
   ]
  },
  {
   "cell_type": "code",
   "execution_count": 28,
   "id": "dce1b9f8",
   "metadata": {},
   "outputs": [],
   "source": [
    "# import modules used for data cleaning\n",
    "from data_manipulator import DataCleaner\n",
    "manipulator = DataCleaner(df)"
   ]
  },
  {
   "cell_type": "code",
   "execution_count": 29,
   "id": "3715f45f",
   "metadata": {},
   "outputs": [
    {
     "data": {
      "text/plain": [
       "Index(['mkt_id', 'output_date', 'output_own_price', 'output_own_cost',\n",
       "       'output_comp_price', 'output_own_profits', 'output_X',\n",
       "       'output_own_share', 'output_own_sales'],\n",
       "      dtype='object')"
      ]
     },
     "execution_count": 29,
     "metadata": {},
     "output_type": "execute_result"
    }
   ],
   "source": [
    "df.columns"
   ]
  },
  {
   "cell_type": "code",
   "execution_count": 30,
   "id": "7aa5a445",
   "metadata": {},
   "outputs": [],
   "source": [
    "# numerical columns\n",
    "columns = ['output_own_price', 'output_own_cost',\n",
    "'output_comp_price', 'output_own_profits','output_X', 'output_own_share', 'output_own_sales']"
   ]
  },
  {
   "cell_type": "code",
   "execution_count": 31,
   "id": "e64e9fae",
   "metadata": {},
   "outputs": [
    {
     "data": {
      "text/html": [
       "<div>\n",
       "<style scoped>\n",
       "    .dataframe tbody tr th:only-of-type {\n",
       "        vertical-align: middle;\n",
       "    }\n",
       "\n",
       "    .dataframe tbody tr th {\n",
       "        vertical-align: top;\n",
       "    }\n",
       "\n",
       "    .dataframe thead th {\n",
       "        text-align: right;\n",
       "    }\n",
       "</style>\n",
       "<table border=\"1\" class=\"dataframe\">\n",
       "  <thead>\n",
       "    <tr style=\"text-align: right;\">\n",
       "      <th></th>\n",
       "      <th>mkt_id</th>\n",
       "      <th>output_date</th>\n",
       "      <th>output_own_price</th>\n",
       "      <th>output_own_cost</th>\n",
       "      <th>output_comp_price</th>\n",
       "      <th>output_own_profits</th>\n",
       "      <th>output_X</th>\n",
       "      <th>output_own_share</th>\n",
       "      <th>output_own_sales</th>\n",
       "    </tr>\n",
       "  </thead>\n",
       "  <tbody>\n",
       "    <tr>\n",
       "      <th>0</th>\n",
       "      <td>44</td>\n",
       "      <td>01jan2019</td>\n",
       "      <td>7.05</td>\n",
       "      <td>5.90</td>\n",
       "      <td>7.11</td>\n",
       "      <td>15.065000</td>\n",
       "      <td>42.80</td>\n",
       "      <td>0.515267</td>\n",
       "      <td>13.10</td>\n",
       "    </tr>\n",
       "    <tr>\n",
       "      <th>1</th>\n",
       "      <td>44</td>\n",
       "      <td>02jan2019</td>\n",
       "      <td>7.05</td>\n",
       "      <td>6.05</td>\n",
       "      <td>7.11</td>\n",
       "      <td>24.310000</td>\n",
       "      <td>36.14</td>\n",
       "      <td>0.557082</td>\n",
       "      <td>24.31</td>\n",
       "    </tr>\n",
       "    <tr>\n",
       "      <th>2</th>\n",
       "      <td>44</td>\n",
       "      <td>03jan2019</td>\n",
       "      <td>7.05</td>\n",
       "      <td>5.98</td>\n",
       "      <td>7.28</td>\n",
       "      <td>30.783910</td>\n",
       "      <td>34.34</td>\n",
       "      <td>0.579922</td>\n",
       "      <td>28.77</td>\n",
       "    </tr>\n",
       "    <tr>\n",
       "      <th>3</th>\n",
       "      <td>44</td>\n",
       "      <td>04jan2019</td>\n",
       "      <td>7.05</td>\n",
       "      <td>5.98</td>\n",
       "      <td>7.28</td>\n",
       "      <td>20.169500</td>\n",
       "      <td>36.32</td>\n",
       "      <td>0.542767</td>\n",
       "      <td>18.85</td>\n",
       "    </tr>\n",
       "    <tr>\n",
       "      <th>4</th>\n",
       "      <td>44</td>\n",
       "      <td>05jan2019</td>\n",
       "      <td>6.79</td>\n",
       "      <td>6.07</td>\n",
       "      <td>6.68</td>\n",
       "      <td>1.231200</td>\n",
       "      <td>44.06</td>\n",
       "      <td>0.494757</td>\n",
       "      <td>1.71</td>\n",
       "    </tr>\n",
       "    <tr>\n",
       "      <th>...</th>\n",
       "      <td>...</td>\n",
       "      <td>...</td>\n",
       "      <td>...</td>\n",
       "      <td>...</td>\n",
       "      <td>...</td>\n",
       "      <td>...</td>\n",
       "      <td>...</td>\n",
       "      <td>...</td>\n",
       "      <td>...</td>\n",
       "    </tr>\n",
       "    <tr>\n",
       "      <th>19705</th>\n",
       "      <td>15555</td>\n",
       "      <td>27dec2019</td>\n",
       "      <td>7.28</td>\n",
       "      <td>5.96</td>\n",
       "      <td>7.30</td>\n",
       "      <td>26.070000</td>\n",
       "      <td>36.68</td>\n",
       "      <td>0.515118</td>\n",
       "      <td>19.75</td>\n",
       "    </tr>\n",
       "    <tr>\n",
       "      <th>19706</th>\n",
       "      <td>15555</td>\n",
       "      <td>28dec2019</td>\n",
       "      <td>6.69</td>\n",
       "      <td>5.94</td>\n",
       "      <td>6.64</td>\n",
       "      <td>3.720000</td>\n",
       "      <td>34.34</td>\n",
       "      <td>0.497312</td>\n",
       "      <td>4.96</td>\n",
       "    </tr>\n",
       "    <tr>\n",
       "      <th>19707</th>\n",
       "      <td>15555</td>\n",
       "      <td>29dec2019</td>\n",
       "      <td>6.69</td>\n",
       "      <td>5.91</td>\n",
       "      <td>6.64</td>\n",
       "      <td>3.393001</td>\n",
       "      <td>32.00</td>\n",
       "      <td>0.424593</td>\n",
       "      <td>4.35</td>\n",
       "    </tr>\n",
       "    <tr>\n",
       "      <th>19708</th>\n",
       "      <td>15555</td>\n",
       "      <td>30dec2019</td>\n",
       "      <td>7.31</td>\n",
       "      <td>5.99</td>\n",
       "      <td>7.42</td>\n",
       "      <td>31.561200</td>\n",
       "      <td>31.10</td>\n",
       "      <td>0.465712</td>\n",
       "      <td>23.91</td>\n",
       "    </tr>\n",
       "    <tr>\n",
       "      <th>19709</th>\n",
       "      <td>15555</td>\n",
       "      <td>31dec2019</td>\n",
       "      <td>7.28</td>\n",
       "      <td>6.05</td>\n",
       "      <td>7.20</td>\n",
       "      <td>22.816500</td>\n",
       "      <td>32.00</td>\n",
       "      <td>0.440597</td>\n",
       "      <td>18.55</td>\n",
       "    </tr>\n",
       "  </tbody>\n",
       "</table>\n",
       "<p>19710 rows × 9 columns</p>\n",
       "</div>"
      ],
      "text/plain": [
       "       mkt_id output_date  output_own_price  output_own_cost  \\\n",
       "0          44   01jan2019              7.05             5.90   \n",
       "1          44   02jan2019              7.05             6.05   \n",
       "2          44   03jan2019              7.05             5.98   \n",
       "3          44   04jan2019              7.05             5.98   \n",
       "4          44   05jan2019              6.79             6.07   \n",
       "...       ...         ...               ...              ...   \n",
       "19705   15555   27dec2019              7.28             5.96   \n",
       "19706   15555   28dec2019              6.69             5.94   \n",
       "19707   15555   29dec2019              6.69             5.91   \n",
       "19708   15555   30dec2019              7.31             5.99   \n",
       "19709   15555   31dec2019              7.28             6.05   \n",
       "\n",
       "       output_comp_price  output_own_profits  output_X  output_own_share  \\\n",
       "0                   7.11           15.065000     42.80          0.515267   \n",
       "1                   7.11           24.310000     36.14          0.557082   \n",
       "2                   7.28           30.783910     34.34          0.579922   \n",
       "3                   7.28           20.169500     36.32          0.542767   \n",
       "4                   6.68            1.231200     44.06          0.494757   \n",
       "...                  ...                 ...       ...               ...   \n",
       "19705               7.30           26.070000     36.68          0.515118   \n",
       "19706               6.64            3.720000     34.34          0.497312   \n",
       "19707               6.64            3.393001     32.00          0.424593   \n",
       "19708               7.42           31.561200     31.10          0.465712   \n",
       "19709               7.20           22.816500     32.00          0.440597   \n",
       "\n",
       "       output_own_sales  \n",
       "0                 13.10  \n",
       "1                 24.31  \n",
       "2                 28.77  \n",
       "3                 18.85  \n",
       "4                  1.71  \n",
       "...                 ...  \n",
       "19705             19.75  \n",
       "19706              4.96  \n",
       "19707              4.35  \n",
       "19708             23.91  \n",
       "19709             18.55  \n",
       "\n",
       "[19710 rows x 9 columns]"
      ]
     },
     "execution_count": 31,
     "metadata": {},
     "output_type": "execute_result"
    }
   ],
   "source": [
    "# replace outlier with median\n",
    "manipulator.replace_outlier_with_median(df, columns)"
   ]
  },
  {
   "cell_type": "markdown",
   "id": "5b5ad9ec",
   "metadata": {},
   "source": [
    "# Data Wrangling"
   ]
  },
  {
   "cell_type": "code",
   "execution_count": 33,
   "id": "6ac10f3c",
   "metadata": {
    "scrolled": true
   },
   "outputs": [
    {
     "data": {
      "text/html": [
       "<div>\n",
       "<style scoped>\n",
       "    .dataframe tbody tr th:only-of-type {\n",
       "        vertical-align: middle;\n",
       "    }\n",
       "\n",
       "    .dataframe tbody tr th {\n",
       "        vertical-align: top;\n",
       "    }\n",
       "\n",
       "    .dataframe thead th {\n",
       "        text-align: right;\n",
       "    }\n",
       "</style>\n",
       "<table border=\"1\" class=\"dataframe\">\n",
       "  <thead>\n",
       "    <tr style=\"text-align: right;\">\n",
       "      <th></th>\n",
       "      <th>mkt_id</th>\n",
       "      <th>output_date</th>\n",
       "      <th>output_own_price</th>\n",
       "      <th>output_own_cost</th>\n",
       "      <th>output_comp_price</th>\n",
       "      <th>output_own_profits</th>\n",
       "      <th>output_X</th>\n",
       "      <th>output_own_share</th>\n",
       "      <th>output_own_sales</th>\n",
       "    </tr>\n",
       "  </thead>\n",
       "  <tbody>\n",
       "    <tr>\n",
       "      <th>0</th>\n",
       "      <td>44</td>\n",
       "      <td>01jan2019</td>\n",
       "      <td>7.05</td>\n",
       "      <td>5.90</td>\n",
       "      <td>7.11</td>\n",
       "      <td>15.06500</td>\n",
       "      <td>42.80</td>\n",
       "      <td>0.515267</td>\n",
       "      <td>13.10</td>\n",
       "    </tr>\n",
       "    <tr>\n",
       "      <th>1</th>\n",
       "      <td>44</td>\n",
       "      <td>02jan2019</td>\n",
       "      <td>7.05</td>\n",
       "      <td>6.05</td>\n",
       "      <td>7.11</td>\n",
       "      <td>24.31000</td>\n",
       "      <td>36.14</td>\n",
       "      <td>0.557082</td>\n",
       "      <td>24.31</td>\n",
       "    </tr>\n",
       "    <tr>\n",
       "      <th>2</th>\n",
       "      <td>44</td>\n",
       "      <td>03jan2019</td>\n",
       "      <td>7.05</td>\n",
       "      <td>5.98</td>\n",
       "      <td>7.28</td>\n",
       "      <td>30.78391</td>\n",
       "      <td>34.34</td>\n",
       "      <td>0.579922</td>\n",
       "      <td>28.77</td>\n",
       "    </tr>\n",
       "    <tr>\n",
       "      <th>3</th>\n",
       "      <td>44</td>\n",
       "      <td>04jan2019</td>\n",
       "      <td>7.05</td>\n",
       "      <td>5.98</td>\n",
       "      <td>7.28</td>\n",
       "      <td>20.16950</td>\n",
       "      <td>36.32</td>\n",
       "      <td>0.542767</td>\n",
       "      <td>18.85</td>\n",
       "    </tr>\n",
       "    <tr>\n",
       "      <th>4</th>\n",
       "      <td>44</td>\n",
       "      <td>05jan2019</td>\n",
       "      <td>6.79</td>\n",
       "      <td>6.07</td>\n",
       "      <td>6.68</td>\n",
       "      <td>1.23120</td>\n",
       "      <td>44.06</td>\n",
       "      <td>0.494757</td>\n",
       "      <td>1.71</td>\n",
       "    </tr>\n",
       "  </tbody>\n",
       "</table>\n",
       "</div>"
      ],
      "text/plain": [
       "   mkt_id output_date  output_own_price  output_own_cost  output_comp_price  \\\n",
       "0      44   01jan2019              7.05             5.90               7.11   \n",
       "1      44   02jan2019              7.05             6.05               7.11   \n",
       "2      44   03jan2019              7.05             5.98               7.28   \n",
       "3      44   04jan2019              7.05             5.98               7.28   \n",
       "4      44   05jan2019              6.79             6.07               6.68   \n",
       "\n",
       "   output_own_profits  output_X  output_own_share  output_own_sales  \n",
       "0            15.06500     42.80          0.515267             13.10  \n",
       "1            24.31000     36.14          0.557082             24.31  \n",
       "2            30.78391     34.34          0.579922             28.77  \n",
       "3            20.16950     36.32          0.542767             18.85  \n",
       "4             1.23120     44.06          0.494757              1.71  "
      ]
     },
     "execution_count": 33,
     "metadata": {},
     "output_type": "execute_result"
    }
   ],
   "source": [
    "df.head()"
   ]
  },
  {
   "cell_type": "code",
   "execution_count": 41,
   "id": "89d59ad6",
   "metadata": {},
   "outputs": [],
   "source": [
    "# no need ... I can use Label encoder for the date"
   ]
  },
  {
   "cell_type": "markdown",
   "id": "5069c636",
   "metadata": {},
   "source": [
    "# Saving new processed File"
   ]
  },
  {
   "cell_type": "code",
   "execution_count": 42,
   "id": "a4588995",
   "metadata": {},
   "outputs": [],
   "source": [
    "# saving new processed file\n",
    "df.to_csv('../data/processed_incl_missing.csv', index=False)"
   ]
  }
 ],
 "metadata": {
  "kernelspec": {
   "display_name": "Python 3 (ipykernel)",
   "language": "python",
   "name": "python3"
  },
  "language_info": {
   "codemirror_mode": {
    "name": "ipython",
    "version": 3
   },
   "file_extension": ".py",
   "mimetype": "text/x-python",
   "name": "python",
   "nbconvert_exporter": "python",
   "pygments_lexer": "ipython3",
   "version": "3.9.12"
  }
 },
 "nbformat": 4,
 "nbformat_minor": 5
}
