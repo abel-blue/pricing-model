{
 "cells": [
  {
   "cell_type": "markdown",
   "id": "002d1544",
   "metadata": {},
   "source": [
    "# Data Exploration\n",
    "- Load Data\n",
    "- Data Information\n",
    "- Classifying catagorical and Numerican Datasets\n",
    "- Univariate Analysis\n",
    "    - Distribution of histograms for all features\n",
    "- Correlations"
   ]
  },
  {
   "cell_type": "markdown",
   "id": "d58efe7f",
   "metadata": {},
   "source": [
    "# Load Data"
   ]
  },
  {
   "cell_type": "code",
   "execution_count": 1,
   "id": "b23bf6ba",
   "metadata": {},
   "outputs": [],
   "source": [
    "#importing the libraries\n",
    "import pandas as pd\n",
    "import numpy as np\n",
    "import matplotlib.pyplot as plt\n",
    "import numpy as np\n",
    "import pandas as pd\n",
    "from scipy import stats\n",
    "import plotly.express as px\n",
    "import seaborn as sns\n",
    "sns.set()\n",
    "import matplotlib.pyplot as plt\n",
    "%matplotlib inline\n",
    "from sklearn import preprocessing\n",
    "import plotly.graph_objects as go\n",
    "import warnings\n",
    "warnings.filterwarnings(\"ignore\")"
   ]
  },
  {
   "cell_type": "code",
   "execution_count": 2,
   "id": "ffba6f45",
   "metadata": {},
   "outputs": [],
   "source": [
    "# importing script modules from ../scripts\n",
    "# Adding scripts path\n",
    "import sys, os\n",
    "sys.path.insert(0, '../scripts/')\n",
    "from data_preProcessing import data_preProcessing_script\n",
    "from data_manipulator import DataCleaner\n",
    "from data_exploration import exploration"
   ]
  },
  {
   "cell_type": "code",
   "execution_count": 3,
   "id": "1c116763",
   "metadata": {},
   "outputs": [
    {
     "data": {
      "text/html": [
       "<div>\n",
       "<style scoped>\n",
       "    .dataframe tbody tr th:only-of-type {\n",
       "        vertical-align: middle;\n",
       "    }\n",
       "\n",
       "    .dataframe tbody tr th {\n",
       "        vertical-align: top;\n",
       "    }\n",
       "\n",
       "    .dataframe thead th {\n",
       "        text-align: right;\n",
       "    }\n",
       "</style>\n",
       "<table border=\"1\" class=\"dataframe\">\n",
       "  <thead>\n",
       "    <tr style=\"text-align: right;\">\n",
       "      <th></th>\n",
       "      <th>mkt_id</th>\n",
       "      <th>output_date</th>\n",
       "      <th>output_own_price</th>\n",
       "      <th>output_own_cost</th>\n",
       "      <th>output_comp_price</th>\n",
       "      <th>output_own_profits</th>\n",
       "      <th>output_X</th>\n",
       "      <th>output_own_share</th>\n",
       "      <th>output_own_sales</th>\n",
       "    </tr>\n",
       "  </thead>\n",
       "  <tbody>\n",
       "    <tr>\n",
       "      <th>0</th>\n",
       "      <td>44</td>\n",
       "      <td>01jan2019</td>\n",
       "      <td>7.05</td>\n",
       "      <td>5.90</td>\n",
       "      <td>7.11</td>\n",
       "      <td>15.06500</td>\n",
       "      <td>42.80</td>\n",
       "      <td>0.515267</td>\n",
       "      <td>13.10</td>\n",
       "    </tr>\n",
       "    <tr>\n",
       "      <th>1</th>\n",
       "      <td>44</td>\n",
       "      <td>02jan2019</td>\n",
       "      <td>7.05</td>\n",
       "      <td>6.05</td>\n",
       "      <td>7.11</td>\n",
       "      <td>24.31000</td>\n",
       "      <td>36.14</td>\n",
       "      <td>0.557082</td>\n",
       "      <td>24.31</td>\n",
       "    </tr>\n",
       "    <tr>\n",
       "      <th>2</th>\n",
       "      <td>44</td>\n",
       "      <td>03jan2019</td>\n",
       "      <td>7.05</td>\n",
       "      <td>5.98</td>\n",
       "      <td>7.28</td>\n",
       "      <td>30.78391</td>\n",
       "      <td>34.34</td>\n",
       "      <td>0.579922</td>\n",
       "      <td>28.77</td>\n",
       "    </tr>\n",
       "    <tr>\n",
       "      <th>3</th>\n",
       "      <td>44</td>\n",
       "      <td>04jan2019</td>\n",
       "      <td>7.05</td>\n",
       "      <td>5.98</td>\n",
       "      <td>7.28</td>\n",
       "      <td>20.16950</td>\n",
       "      <td>36.32</td>\n",
       "      <td>0.542767</td>\n",
       "      <td>18.85</td>\n",
       "    </tr>\n",
       "    <tr>\n",
       "      <th>4</th>\n",
       "      <td>44</td>\n",
       "      <td>05jan2019</td>\n",
       "      <td>6.79</td>\n",
       "      <td>6.07</td>\n",
       "      <td>6.68</td>\n",
       "      <td>1.23120</td>\n",
       "      <td>44.06</td>\n",
       "      <td>0.494757</td>\n",
       "      <td>1.71</td>\n",
       "    </tr>\n",
       "  </tbody>\n",
       "</table>\n",
       "</div>"
      ],
      "text/plain": [
       "   mkt_id output_date  output_own_price  output_own_cost  output_comp_price  \\\n",
       "0      44   01jan2019              7.05             5.90               7.11   \n",
       "1      44   02jan2019              7.05             6.05               7.11   \n",
       "2      44   03jan2019              7.05             5.98               7.28   \n",
       "3      44   04jan2019              7.05             5.98               7.28   \n",
       "4      44   05jan2019              6.79             6.07               6.68   \n",
       "\n",
       "   output_own_profits  output_X  output_own_share  output_own_sales  \n",
       "0            15.06500     42.80          0.515267             13.10  \n",
       "1            24.31000     36.14          0.557082             24.31  \n",
       "2            30.78391     34.34          0.579922             28.77  \n",
       "3            20.16950     36.32          0.542767             18.85  \n",
       "4             1.23120     44.06          0.494757              1.71  "
      ]
     },
     "execution_count": 3,
     "metadata": {},
     "output_type": "execute_result"
    }
   ],
   "source": [
    "df = pd.read_csv(\"../data/processed_incl_missing.csv\")\n",
    "df.head()"
   ]
  },
  {
   "cell_type": "markdown",
   "id": "2b1be010",
   "metadata": {},
   "source": [
    "# Data Information"
   ]
  },
  {
   "cell_type": "code",
   "execution_count": 4,
   "id": "557f31e4",
   "metadata": {},
   "outputs": [
    {
     "name": "stdout",
     "output_type": "stream",
     "text": [
      "<class 'pandas.core.frame.DataFrame'>\n",
      "RangeIndex: 19710 entries, 0 to 19709\n",
      "Data columns (total 9 columns):\n",
      " #   Column              Non-Null Count  Dtype  \n",
      "---  ------              --------------  -----  \n",
      " 0   mkt_id              19710 non-null  int64  \n",
      " 1   output_date         19710 non-null  object \n",
      " 2   output_own_price    19710 non-null  float64\n",
      " 3   output_own_cost     19710 non-null  float64\n",
      " 4   output_comp_price   19710 non-null  float64\n",
      " 5   output_own_profits  19710 non-null  float64\n",
      " 6   output_X            19710 non-null  float64\n",
      " 7   output_own_share    19710 non-null  float64\n",
      " 8   output_own_sales    19710 non-null  float64\n",
      "dtypes: float64(7), int64(1), object(1)\n",
      "memory usage: 1.4+ MB\n"
     ]
    }
   ],
   "source": [
    "preprocess = data_preProcessing_script(df)\n",
    "preprocess.show_data_information()"
   ]
  },
  {
   "cell_type": "code",
   "execution_count": 5,
   "id": "63f53329",
   "metadata": {},
   "outputs": [
    {
     "name": "stdout",
     "output_type": "stream",
     "text": [
      "unique column values\n"
     ]
    },
    {
     "data": {
      "text/plain": [
       "output_own_share      19373\n",
       "output_own_profits    14351\n",
       "output_own_sales       2766\n",
       "output_X                381\n",
       "output_date             365\n",
       "output_comp_price        95\n",
       "output_own_price         94\n",
       "mkt_id                   54\n",
       "output_own_cost          25\n",
       "dtype: int64"
      ]
     },
     "execution_count": 5,
     "metadata": {},
     "output_type": "execute_result"
    }
   ],
   "source": [
    "print('unique column values')\n",
    "df.apply(lambda x: len(x.unique())).sort_values(ascending=False).head(33)"
   ]
  },
  {
   "cell_type": "markdown",
   "id": "8d918b95",
   "metadata": {},
   "source": [
    "# Classifying catagorical and Numerican Datasets"
   ]
  },
  {
   "cell_type": "code",
   "execution_count": 6,
   "id": "2c6a3a0f",
   "metadata": {},
   "outputs": [],
   "source": [
    "# getting dataframe columns list\n",
    "cols = df.columns.tolist()"
   ]
  },
  {
   "cell_type": "code",
   "execution_count": 7,
   "id": "13dbc045",
   "metadata": {},
   "outputs": [
    {
     "data": {
      "text/plain": [
       "Index(['mkt_id', 'output_own_price', 'output_own_cost', 'output_comp_price',\n",
       "       'output_own_profits', 'output_X', 'output_own_share',\n",
       "       'output_own_sales'],\n",
       "      dtype='object')"
      ]
     },
     "execution_count": 7,
     "metadata": {},
     "output_type": "execute_result"
    }
   ],
   "source": [
    "# numerical values\n",
    "num_cols = df._get_numeric_data().columns\n",
    "num_cols"
   ]
  },
  {
   "cell_type": "code",
   "execution_count": 8,
   "id": "fd2654d6",
   "metadata": {},
   "outputs": [
    {
     "data": {
      "text/plain": [
       "['output_date']"
      ]
     },
     "execution_count": 8,
     "metadata": {},
     "output_type": "execute_result"
    }
   ],
   "source": [
    "# catagorical values\n",
    "list(set(cols) - set(num_cols))"
   ]
  },
  {
   "cell_type": "code",
   "execution_count": null,
   "id": "3f9050be",
   "metadata": {},
   "outputs": [],
   "source": []
  }
 ],
 "metadata": {
  "kernelspec": {
   "display_name": "Python 3 (ipykernel)",
   "language": "python",
   "name": "python3"
  },
  "language_info": {
   "codemirror_mode": {
    "name": "ipython",
    "version": 3
   },
   "file_extension": ".py",
   "mimetype": "text/x-python",
   "name": "python",
   "nbconvert_exporter": "python",
   "pygments_lexer": "ipython3",
   "version": "3.9.12"
  }
 },
 "nbformat": 4,
 "nbformat_minor": 5
}
